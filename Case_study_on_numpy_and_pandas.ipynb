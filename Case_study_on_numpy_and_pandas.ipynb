{
  "nbformat": 4,
  "nbformat_minor": 0,
  "metadata": {
    "colab": {
      "provenance": []
    },
    "kernelspec": {
      "name": "python3",
      "display_name": "Python 3"
    },
    "language_info": {
      "name": "python"
    }
  },
  "cells": [
    {
      "cell_type": "markdown",
      "source": [
        "# **Numpy**\n",
        "**Question** **1**"
      ],
      "metadata": {
        "id": "uCAmOHSF-rzj"
      }
    },
    {
      "cell_type": "code",
      "execution_count": 104,
      "metadata": {
        "id": "6VeLc9wl8M7B"
      },
      "outputs": [],
      "source": [
        "import numpy as np"
      ]
    },
    {
      "cell_type": "code",
      "source": [
        "arr = np.random.randint(10,50,size=(20))\n",
        "print(arr)"
      ],
      "metadata": {
        "colab": {
          "base_uri": "https://localhost:8080/"
        },
        "id": "NcHEYbrL82Ph",
        "outputId": "f97cce20-bffe-4972-fbf2-a01ddc10499e"
      },
      "execution_count": 105,
      "outputs": [
        {
          "output_type": "stream",
          "name": "stdout",
          "text": [
            "[36 10 10 32 24 47 37 31 26 26 14 27 31 27 31 30 40 23 35 32]\n"
          ]
        }
      ]
    },
    {
      "cell_type": "code",
      "source": [
        "mean = np.mean(arr)\n",
        "print(\"mean=\", mean)"
      ],
      "metadata": {
        "colab": {
          "base_uri": "https://localhost:8080/"
        },
        "id": "umykUT_w9zLd",
        "outputId": "de0a28b3-5367-41c3-fc3c-2742546905ef"
      },
      "execution_count": 106,
      "outputs": [
        {
          "output_type": "stream",
          "name": "stdout",
          "text": [
            "mean= 28.45\n"
          ]
        }
      ]
    },
    {
      "cell_type": "code",
      "source": [
        "std = np.std(arr)\n",
        "print(\"std=\", std)"
      ],
      "metadata": {
        "colab": {
          "base_uri": "https://localhost:8080/"
        },
        "id": "32SFnPAc-MPC",
        "outputId": "6b1bcdd8-dcf9-4195-b50f-d371d7bed63c"
      },
      "execution_count": 107,
      "outputs": [
        {
          "output_type": "stream",
          "name": "stdout",
          "text": [
            "std= 9.091067044082338\n"
          ]
        }
      ]
    },
    {
      "cell_type": "markdown",
      "source": [
        "**Question 2**"
      ],
      "metadata": {
        "id": "TMd-wOe7AnFH"
      }
    },
    {
      "cell_type": "code",
      "source": [
        "arr1 = np.random.rand(6,5)\n",
        "print (\"\\narr1=\", arr1)"
      ],
      "metadata": {
        "colab": {
          "base_uri": "https://localhost:8080/"
        },
        "id": "-nQRviuJ_t8J",
        "outputId": "1a7e0459-eb14-43bd-fb83-78ba1813ed97"
      },
      "execution_count": 42,
      "outputs": [
        {
          "output_type": "stream",
          "name": "stdout",
          "text": [
            "\n",
            "arr1= [[0.96278793 0.77471005 0.70039793 0.83610957 0.14670119]\n",
            " [0.07245099 0.37379275 0.54503186 0.66214476 0.33392176]\n",
            " [0.29423367 0.12065125 0.37986971 0.07878199 0.96292306]\n",
            " [0.29125096 0.93702581 0.74565641 0.22870429 0.40277565]\n",
            " [0.76057462 0.26826485 0.73512416 0.26609062 0.51245788]\n",
            " [0.8878356  0.698793   0.74326871 0.91346475 0.7201737 ]]\n"
          ]
        }
      ]
    },
    {
      "cell_type": "code",
      "source": [
        "arr1.reshape(5,6)"
      ],
      "metadata": {
        "colab": {
          "base_uri": "https://localhost:8080/"
        },
        "id": "-x1mqQf5ASgS",
        "outputId": "c7c0dd8f-6428-4a59-c5b6-49a37a39f07d"
      },
      "execution_count": null,
      "outputs": [
        {
          "output_type": "execute_result",
          "data": {
            "text/plain": [
              "array([[0.58275567, 0.85635514, 0.71943591, 0.14182666, 0.25140395,\n",
              "        0.04920831],\n",
              "       [0.60231857, 0.9549849 , 0.18956486, 0.61739078, 0.0354625 ,\n",
              "        0.73129012],\n",
              "       [0.11462223, 0.70439404, 0.62253094, 0.2767939 , 0.26629936,\n",
              "        0.6818235 ],\n",
              "       [0.44896644, 0.83874137, 0.23404887, 0.25256953, 0.15311099,\n",
              "        0.42086063],\n",
              "       [0.08117754, 0.66071981, 0.31825928, 0.69972443, 0.42527302,\n",
              "        0.71169686]])"
            ]
          },
          "metadata": {},
          "execution_count": 35
        }
      ]
    },
    {
      "cell_type": "markdown",
      "source": [
        "**Question 3**"
      ],
      "metadata": {
        "id": "4ByMpDNkA3kz"
      }
    },
    {
      "cell_type": "code",
      "source": [
        "arr2 = np.arange(1,26).reshape(5,5)\n",
        "print(\"\\narr2\", arr2)\n",
        "arr2[1:,1:4]"
      ],
      "metadata": {
        "colab": {
          "base_uri": "https://localhost:8080/"
        },
        "id": "gNUg-NeqA6V1",
        "outputId": "61c2b3de-17f9-4a8f-a8f2-7e0883d09c9e"
      },
      "execution_count": 43,
      "outputs": [
        {
          "output_type": "stream",
          "name": "stdout",
          "text": [
            "\n",
            "arr2 [[ 1  2  3  4  5]\n",
            " [ 6  7  8  9 10]\n",
            " [11 12 13 14 15]\n",
            " [16 17 18 19 20]\n",
            " [21 22 23 24 25]]\n"
          ]
        },
        {
          "output_type": "execute_result",
          "data": {
            "text/plain": [
              "array([[ 7,  8,  9],\n",
              "       [12, 13, 14],\n",
              "       [17, 18, 19],\n",
              "       [22, 23, 24]])"
            ]
          },
          "metadata": {},
          "execution_count": 43
        }
      ]
    },
    {
      "cell_type": "markdown",
      "source": [
        "**Question 4**"
      ],
      "metadata": {
        "id": "0Kfo5fWeDb2q"
      }
    },
    {
      "cell_type": "code",
      "source": [
        "A = np.random.randint(1,100,size=10)\n",
        "B = np.random.randint(1,100,size=10)\n",
        "print(\"A\", A)\n",
        "print(\"B\", B)\n",
        "addition = A+B\n",
        "result = (A+B)*2\n",
        "print(\"\\naddition=\", addition)\n",
        "print(\"\\nresult=\", result)\n"
      ],
      "metadata": {
        "colab": {
          "base_uri": "https://localhost:8080/"
        },
        "id": "8FaY5QDnDhsi",
        "outputId": "3fe53a55-377f-47a0-fc6a-43557ccea00c"
      },
      "execution_count": 44,
      "outputs": [
        {
          "output_type": "stream",
          "name": "stdout",
          "text": [
            "A [14 94 78  6 75 46 54 77 84 25]\n",
            "B [62 26 99 76 34 73 53 56 36 56]\n",
            "\n",
            "addition= [ 76 120 177  82 109 119 107 133 120  81]\n",
            "\n",
            "result= [152 240 354 164 218 238 214 266 240 162]\n"
          ]
        }
      ]
    },
    {
      "cell_type": "markdown",
      "source": [
        "**Question 5**"
      ],
      "metadata": {
        "id": "xD3PmCMhDhV7"
      }
    },
    {
      "cell_type": "code",
      "source": [
        "A2 = np.random.randint(1,11,size=(3,4))\n",
        "B2 = np.array([1, 2, 3, 4])\n",
        "print(\"\\nA2=\", A2)\n",
        "print(\"\\nB2=\", B2)\n",
        "result = A2+B2\n",
        "print(\"\\nresult=\", result)\n"
      ],
      "metadata": {
        "colab": {
          "base_uri": "https://localhost:8080/"
        },
        "id": "5UEfyXu_Dgdj",
        "outputId": "cdc4e17d-11f9-49d6-abf6-bc6e148b885f"
      },
      "execution_count": null,
      "outputs": [
        {
          "output_type": "stream",
          "name": "stdout",
          "text": [
            "\n",
            "A2= [[5 7 3 9]\n",
            " [3 2 3 2]\n",
            " [9 4 9 1]]\n",
            "\n",
            "B2= [1 2 3 4]\n",
            "\n",
            "result= [[ 6  9  6 13]\n",
            " [ 4  4  6  6]\n",
            " [10  6 12  5]]\n"
          ]
        }
      ]
    },
    {
      "cell_type": "markdown",
      "source": [
        "Broadcasting in NumPy allows arithmetic operations between arrays of different shapes. In the above case, the 1D array B is broadcasted to match the shape of the 2D array A so that the addition operation can be performed element-wise.\n",
        "NumPy compares a set of array dimensions from right to left.\n",
        "Every set of dimensions must be compatible with the arrays to be broadcastable. A set of dimension lengths is compatible when\n",
        "*   one of them has a length of 1\n",
        "*   or they are equal\n",
        "\n",
        "\n"
      ],
      "metadata": {
        "id": "J5yxuu9qtlsc"
      }
    },
    {
      "cell_type": "markdown",
      "source": [
        "**Question 6**"
      ],
      "metadata": {
        "id": "XbezJYJxEoG-"
      }
    },
    {
      "cell_type": "code",
      "source": [
        "arr3 = np.random.randint(1,100,size=(3,3))\n",
        "arr3\n"
      ],
      "metadata": {
        "colab": {
          "base_uri": "https://localhost:8080/"
        },
        "id": "l6AjZj9dEsTj",
        "outputId": "c6407c21-5875-426a-e613-3ba201cf9e38"
      },
      "execution_count": 108,
      "outputs": [
        {
          "output_type": "execute_result",
          "data": {
            "text/plain": [
              "array([[79, 38,  3],\n",
              "       [81, 39, 54],\n",
              "       [67, 81, 58]])"
            ]
          },
          "metadata": {},
          "execution_count": 108
        }
      ]
    },
    {
      "cell_type": "code",
      "source": [
        "sum=np.sum(arr3, axis=1)\n",
        "print(\"sum=\", sum)"
      ],
      "metadata": {
        "colab": {
          "base_uri": "https://localhost:8080/"
        },
        "id": "ecH-yU4_HysK",
        "outputId": "e40ccbad-d216-40cd-b6f0-948076af5de4"
      },
      "execution_count": 109,
      "outputs": [
        {
          "output_type": "stream",
          "name": "stdout",
          "text": [
            "sum= [120 174 206]\n"
          ]
        }
      ]
    },
    {
      "cell_type": "code",
      "source": [
        "np.argmax(sum)"
      ],
      "metadata": {
        "colab": {
          "base_uri": "https://localhost:8080/"
        },
        "id": "qP6lanJqJaHB",
        "outputId": "8bec2481-38fe-47a5-f088-7e12543fe134"
      },
      "execution_count": 111,
      "outputs": [
        {
          "output_type": "execute_result",
          "data": {
            "text/plain": [
              "2"
            ]
          },
          "metadata": {},
          "execution_count": 111
        }
      ]
    },
    {
      "cell_type": "markdown",
      "source": [
        "**Question** **7**"
      ],
      "metadata": {
        "id": "wW-HVwyWKt8b"
      }
    },
    {
      "cell_type": "code",
      "source": [
        "A1 = np.random.randint(1,100,size=(2,2))\n",
        "B1 = np.random.randint(1,100,size=(2,2))\n",
        "print(\"\\nA1=\", A1)\n",
        "print(\"\\nB1=\", B1)\n",
        "np.dot(A1,B1)\n"
      ],
      "metadata": {
        "colab": {
          "base_uri": "https://localhost:8080/"
        },
        "id": "Xae3cqWlKxUS",
        "outputId": "435cb6eb-8ab8-4984-a165-56e46dce38e7"
      },
      "execution_count": 50,
      "outputs": [
        {
          "output_type": "stream",
          "name": "stdout",
          "text": [
            "\n",
            "A1= [[14  8]\n",
            " [94 43]]\n",
            "\n",
            "B1= [[88 45]\n",
            " [39 38]]\n"
          ]
        },
        {
          "output_type": "execute_result",
          "data": {
            "text/plain": [
              "array([[1544,  934],\n",
              "       [9949, 5864]])"
            ]
          },
          "metadata": {},
          "execution_count": 50
        }
      ]
    },
    {
      "cell_type": "markdown",
      "source": [
        "**Question 8**"
      ],
      "metadata": {
        "id": "F7R_gvjZMIAG"
      }
    },
    {
      "cell_type": "code",
      "source": [
        "arr4 = np.random.randint(1,51,size=(6,6))\n",
        "print(\"arr4=\",arr4)\n",
        "greater_than_25=arr4[arr4>25]\n",
        "print(\"\\ngreater_than_25=\", greater_than_25)"
      ],
      "metadata": {
        "colab": {
          "base_uri": "https://localhost:8080/"
        },
        "id": "cChzWK0tMJi3",
        "outputId": "f9233eb4-15ba-492c-aad2-ad4d2ef7e9bb"
      },
      "execution_count": 51,
      "outputs": [
        {
          "output_type": "stream",
          "name": "stdout",
          "text": [
            "arr4= [[32  2 48 47 36 19]\n",
            " [48 30 21 32 22 44]\n",
            " [47 34 31 33 17  1]\n",
            " [48 27  5  8 37 28]\n",
            " [29 28  1 46 16 30]\n",
            " [12 24 29 34 22 10]]\n",
            "\n",
            "greater_than_25= [32 48 47 36 48 30 32 44 47 34 31 33 48 27 37 28 29 28 46 30 29 34]\n"
          ]
        }
      ]
    },
    {
      "cell_type": "markdown",
      "source": [
        "**Question 9**"
      ],
      "metadata": {
        "id": "maJC0ZfDOmHu"
      }
    },
    {
      "cell_type": "code",
      "source": [
        "arr5 = np.random.rand(5,5)\n",
        "print(\"\\narr5=\",arr5)\n",
        "median_col = np.median(arr5, axis=0)\n",
        "print(\"\\nmedian_col=\", median_col)\n",
        "median_row = np.median(arr5, axis=1)\n",
        "print(\"\\nmedian_row=\", median_row)\n",
        "var_col = np.var(arr5, axis=0)\n",
        "print(\"\\nvar_col=\", var_col)\n",
        "var_row = np.var(arr5, axis=1)\n",
        "print(\"\\nvar_row=\",var_row)"
      ],
      "metadata": {
        "colab": {
          "base_uri": "https://localhost:8080/"
        },
        "id": "MnEiStuUOo3c",
        "outputId": "517716c3-da8e-4c66-ef41-4a6eed7112eb"
      },
      "execution_count": 52,
      "outputs": [
        {
          "output_type": "stream",
          "name": "stdout",
          "text": [
            "\n",
            "arr5= [[0.20241954 0.73753371 0.90173215 0.00442371 0.96179289]\n",
            " [0.63341994 0.90031684 0.89376997 0.31527821 0.54813455]\n",
            " [0.57675918 0.19999607 0.13964002 0.63245551 0.6971298 ]\n",
            " [0.29146241 0.57413515 0.8916505  0.22016592 0.82446712]\n",
            " [0.37857779 0.49048423 0.46433649 0.34384888 0.49117516]]\n",
            "\n",
            "median_col= [0.37857779 0.57413515 0.8916505  0.31527821 0.6971298 ]\n",
            "\n",
            "median_row= [0.73753371 0.63341994 0.57675918 0.57413515 0.46433649]\n",
            "\n",
            "var_col= [0.02712804 0.0559738  0.09515755 0.04127387 0.03012074]\n",
            "\n",
            "var_row= [0.14925058 0.04888752 0.05385062 0.07354673 0.00371562]\n"
          ]
        }
      ]
    },
    {
      "cell_type": "markdown",
      "source": [
        "**Question 10**"
      ],
      "metadata": {
        "id": "3TG5mZ6VQwIR"
      }
    },
    {
      "cell_type": "code",
      "source": [
        "arr6 = np.random.randint(1,11,size=(3,3))\n",
        "print(\"arr6=\",arr6)"
      ],
      "metadata": {
        "colab": {
          "base_uri": "https://localhost:8080/"
        },
        "id": "auY2u1_KQyeN",
        "outputId": "eb00c2d3-d919-4e8f-900e-06539c38ffcd"
      },
      "execution_count": 98,
      "outputs": [
        {
          "output_type": "stream",
          "name": "stdout",
          "text": [
            "arr6= [[ 3  6  1]\n",
            " [ 1  8  8]\n",
            " [10  9  2]]\n"
          ]
        }
      ]
    },
    {
      "cell_type": "code",
      "source": [
        "sub = arr6-2\n",
        "print(\"sub=\", sub)"
      ],
      "metadata": {
        "colab": {
          "base_uri": "https://localhost:8080/"
        },
        "id": "U2Ax-P-gMT2Y",
        "outputId": "414e247f-7561-40b9-9566-81c04bf8de04"
      },
      "execution_count": null,
      "outputs": [
        {
          "output_type": "stream",
          "name": "stdout",
          "text": [
            "sub= [[ 5  8 -1]\n",
            " [-1  1  0]\n",
            " [ 7  0  8]]\n"
          ]
        }
      ]
    },
    {
      "cell_type": "code",
      "source": [
        "square = arr6*arr6\n",
        "print(\"square=\", square)"
      ],
      "metadata": {
        "colab": {
          "base_uri": "https://localhost:8080/"
        },
        "id": "LxnJUNDORvHo",
        "outputId": "2fb363ae-f29c-49f6-960f-0af944bc719c"
      },
      "execution_count": 99,
      "outputs": [
        {
          "output_type": "stream",
          "name": "stdout",
          "text": [
            "square= [[  9  36   1]\n",
            " [  1  64  64]\n",
            " [100  81   4]]\n"
          ]
        }
      ]
    },
    {
      "cell_type": "code",
      "source": [
        "reciprocal = np.reciprocal(arr6)\n",
        "print(\"reciprocal=\", reciprocal)"
      ],
      "metadata": {
        "colab": {
          "base_uri": "https://localhost:8080/"
        },
        "id": "ZNolchc0R2ne",
        "outputId": "af404af1-4b81-4a8d-aab0-24868e702486"
      },
      "execution_count": 100,
      "outputs": [
        {
          "output_type": "stream",
          "name": "stdout",
          "text": [
            "reciprocal= [[0 0 1]\n",
            " [1 0 0]\n",
            " [0 0 0]]\n"
          ]
        }
      ]
    },
    {
      "cell_type": "markdown",
      "source": [
        "# **Pandas**"
      ],
      "metadata": {
        "id": "cAgASV9VH43t"
      }
    },
    {
      "cell_type": "markdown",
      "source": [
        "**Question** **1**"
      ],
      "metadata": {
        "id": "0OUR3QHoSP-q"
      }
    },
    {
      "cell_type": "code",
      "source": [
        "import pandas as pd"
      ],
      "metadata": {
        "id": "wiA_q7wTSUPZ"
      },
      "execution_count": null,
      "outputs": []
    },
    {
      "cell_type": "code",
      "source": [
        "df = pd.read_csv(\"/content/auto-mpg (1).csv\")\n"
      ],
      "metadata": {
        "id": "_KQoob_mTflo"
      },
      "execution_count": 10,
      "outputs": []
    },
    {
      "cell_type": "markdown",
      "source": [
        "**question 1.1**"
      ],
      "metadata": {
        "id": "zfqelOhVs8nm"
      }
    },
    {
      "cell_type": "code",
      "source": [
        "df.head(10)"
      ],
      "metadata": {
        "colab": {
          "base_uri": "https://localhost:8080/",
          "height": 363
        },
        "id": "ABi55vLyM-TG",
        "outputId": "252530e3-0c1e-4651-b232-e1e4119ab809"
      },
      "execution_count": 28,
      "outputs": [
        {
          "output_type": "execute_result",
          "data": {
            "text/plain": [
              "    mpg  cylinders  displacement horsepower  weight  acceleration  model year  \\\n",
              "0  18.0          8         307.0        130    3504          12.0          70   \n",
              "1  15.0          8         350.0        165    3693          11.5          70   \n",
              "2  18.0          8         318.0        150    3436          11.0          70   \n",
              "3  16.0          8         304.0        150    3433          12.0          70   \n",
              "4  17.0          8         302.0        140    3449          10.5          70   \n",
              "5  15.0          8         429.0        198    4341          10.0          70   \n",
              "6  14.0          8         454.0        220    4354           9.0          70   \n",
              "7  14.0          8         440.0        215    4312           8.5          70   \n",
              "8  14.0          8         455.0        225    4425          10.0          70   \n",
              "9  15.0          8         390.0        190    3850           8.5          70   \n",
              "\n",
              "   origin                   car name  \n",
              "0       1  chevrolet chevelle malibu  \n",
              "1       1          buick skylark 320  \n",
              "2       1         plymouth satellite  \n",
              "3       1              amc rebel sst  \n",
              "4       1                ford torino  \n",
              "5       1           ford galaxie 500  \n",
              "6       1           chevrolet impala  \n",
              "7       1          plymouth fury iii  \n",
              "8       1           pontiac catalina  \n",
              "9       1         amc ambassador dpl  "
            ],
            "text/html": [
              "\n",
              "  <div id=\"df-c2499773-fca2-49d5-8cae-fb210cf96846\" class=\"colab-df-container\">\n",
              "    <div>\n",
              "<style scoped>\n",
              "    .dataframe tbody tr th:only-of-type {\n",
              "        vertical-align: middle;\n",
              "    }\n",
              "\n",
              "    .dataframe tbody tr th {\n",
              "        vertical-align: top;\n",
              "    }\n",
              "\n",
              "    .dataframe thead th {\n",
              "        text-align: right;\n",
              "    }\n",
              "</style>\n",
              "<table border=\"1\" class=\"dataframe\">\n",
              "  <thead>\n",
              "    <tr style=\"text-align: right;\">\n",
              "      <th></th>\n",
              "      <th>mpg</th>\n",
              "      <th>cylinders</th>\n",
              "      <th>displacement</th>\n",
              "      <th>horsepower</th>\n",
              "      <th>weight</th>\n",
              "      <th>acceleration</th>\n",
              "      <th>model year</th>\n",
              "      <th>origin</th>\n",
              "      <th>car name</th>\n",
              "    </tr>\n",
              "  </thead>\n",
              "  <tbody>\n",
              "    <tr>\n",
              "      <th>0</th>\n",
              "      <td>18.0</td>\n",
              "      <td>8</td>\n",
              "      <td>307.0</td>\n",
              "      <td>130</td>\n",
              "      <td>3504</td>\n",
              "      <td>12.0</td>\n",
              "      <td>70</td>\n",
              "      <td>1</td>\n",
              "      <td>chevrolet chevelle malibu</td>\n",
              "    </tr>\n",
              "    <tr>\n",
              "      <th>1</th>\n",
              "      <td>15.0</td>\n",
              "      <td>8</td>\n",
              "      <td>350.0</td>\n",
              "      <td>165</td>\n",
              "      <td>3693</td>\n",
              "      <td>11.5</td>\n",
              "      <td>70</td>\n",
              "      <td>1</td>\n",
              "      <td>buick skylark 320</td>\n",
              "    </tr>\n",
              "    <tr>\n",
              "      <th>2</th>\n",
              "      <td>18.0</td>\n",
              "      <td>8</td>\n",
              "      <td>318.0</td>\n",
              "      <td>150</td>\n",
              "      <td>3436</td>\n",
              "      <td>11.0</td>\n",
              "      <td>70</td>\n",
              "      <td>1</td>\n",
              "      <td>plymouth satellite</td>\n",
              "    </tr>\n",
              "    <tr>\n",
              "      <th>3</th>\n",
              "      <td>16.0</td>\n",
              "      <td>8</td>\n",
              "      <td>304.0</td>\n",
              "      <td>150</td>\n",
              "      <td>3433</td>\n",
              "      <td>12.0</td>\n",
              "      <td>70</td>\n",
              "      <td>1</td>\n",
              "      <td>amc rebel sst</td>\n",
              "    </tr>\n",
              "    <tr>\n",
              "      <th>4</th>\n",
              "      <td>17.0</td>\n",
              "      <td>8</td>\n",
              "      <td>302.0</td>\n",
              "      <td>140</td>\n",
              "      <td>3449</td>\n",
              "      <td>10.5</td>\n",
              "      <td>70</td>\n",
              "      <td>1</td>\n",
              "      <td>ford torino</td>\n",
              "    </tr>\n",
              "    <tr>\n",
              "      <th>5</th>\n",
              "      <td>15.0</td>\n",
              "      <td>8</td>\n",
              "      <td>429.0</td>\n",
              "      <td>198</td>\n",
              "      <td>4341</td>\n",
              "      <td>10.0</td>\n",
              "      <td>70</td>\n",
              "      <td>1</td>\n",
              "      <td>ford galaxie 500</td>\n",
              "    </tr>\n",
              "    <tr>\n",
              "      <th>6</th>\n",
              "      <td>14.0</td>\n",
              "      <td>8</td>\n",
              "      <td>454.0</td>\n",
              "      <td>220</td>\n",
              "      <td>4354</td>\n",
              "      <td>9.0</td>\n",
              "      <td>70</td>\n",
              "      <td>1</td>\n",
              "      <td>chevrolet impala</td>\n",
              "    </tr>\n",
              "    <tr>\n",
              "      <th>7</th>\n",
              "      <td>14.0</td>\n",
              "      <td>8</td>\n",
              "      <td>440.0</td>\n",
              "      <td>215</td>\n",
              "      <td>4312</td>\n",
              "      <td>8.5</td>\n",
              "      <td>70</td>\n",
              "      <td>1</td>\n",
              "      <td>plymouth fury iii</td>\n",
              "    </tr>\n",
              "    <tr>\n",
              "      <th>8</th>\n",
              "      <td>14.0</td>\n",
              "      <td>8</td>\n",
              "      <td>455.0</td>\n",
              "      <td>225</td>\n",
              "      <td>4425</td>\n",
              "      <td>10.0</td>\n",
              "      <td>70</td>\n",
              "      <td>1</td>\n",
              "      <td>pontiac catalina</td>\n",
              "    </tr>\n",
              "    <tr>\n",
              "      <th>9</th>\n",
              "      <td>15.0</td>\n",
              "      <td>8</td>\n",
              "      <td>390.0</td>\n",
              "      <td>190</td>\n",
              "      <td>3850</td>\n",
              "      <td>8.5</td>\n",
              "      <td>70</td>\n",
              "      <td>1</td>\n",
              "      <td>amc ambassador dpl</td>\n",
              "    </tr>\n",
              "  </tbody>\n",
              "</table>\n",
              "</div>\n",
              "    <div class=\"colab-df-buttons\">\n",
              "\n",
              "  <div class=\"colab-df-container\">\n",
              "    <button class=\"colab-df-convert\" onclick=\"convertToInteractive('df-c2499773-fca2-49d5-8cae-fb210cf96846')\"\n",
              "            title=\"Convert this dataframe to an interactive table.\"\n",
              "            style=\"display:none;\">\n",
              "\n",
              "  <svg xmlns=\"http://www.w3.org/2000/svg\" height=\"24px\" viewBox=\"0 -960 960 960\">\n",
              "    <path d=\"M120-120v-720h720v720H120Zm60-500h600v-160H180v160Zm220 220h160v-160H400v160Zm0 220h160v-160H400v160ZM180-400h160v-160H180v160Zm440 0h160v-160H620v160ZM180-180h160v-160H180v160Zm440 0h160v-160H620v160Z\"/>\n",
              "  </svg>\n",
              "    </button>\n",
              "\n",
              "  <style>\n",
              "    .colab-df-container {\n",
              "      display:flex;\n",
              "      gap: 12px;\n",
              "    }\n",
              "\n",
              "    .colab-df-convert {\n",
              "      background-color: #E8F0FE;\n",
              "      border: none;\n",
              "      border-radius: 50%;\n",
              "      cursor: pointer;\n",
              "      display: none;\n",
              "      fill: #1967D2;\n",
              "      height: 32px;\n",
              "      padding: 0 0 0 0;\n",
              "      width: 32px;\n",
              "    }\n",
              "\n",
              "    .colab-df-convert:hover {\n",
              "      background-color: #E2EBFA;\n",
              "      box-shadow: 0px 1px 2px rgba(60, 64, 67, 0.3), 0px 1px 3px 1px rgba(60, 64, 67, 0.15);\n",
              "      fill: #174EA6;\n",
              "    }\n",
              "\n",
              "    .colab-df-buttons div {\n",
              "      margin-bottom: 4px;\n",
              "    }\n",
              "\n",
              "    [theme=dark] .colab-df-convert {\n",
              "      background-color: #3B4455;\n",
              "      fill: #D2E3FC;\n",
              "    }\n",
              "\n",
              "    [theme=dark] .colab-df-convert:hover {\n",
              "      background-color: #434B5C;\n",
              "      box-shadow: 0px 1px 3px 1px rgba(0, 0, 0, 0.15);\n",
              "      filter: drop-shadow(0px 1px 2px rgba(0, 0, 0, 0.3));\n",
              "      fill: #FFFFFF;\n",
              "    }\n",
              "  </style>\n",
              "\n",
              "    <script>\n",
              "      const buttonEl =\n",
              "        document.querySelector('#df-c2499773-fca2-49d5-8cae-fb210cf96846 button.colab-df-convert');\n",
              "      buttonEl.style.display =\n",
              "        google.colab.kernel.accessAllowed ? 'block' : 'none';\n",
              "\n",
              "      async function convertToInteractive(key) {\n",
              "        const element = document.querySelector('#df-c2499773-fca2-49d5-8cae-fb210cf96846');\n",
              "        const dataTable =\n",
              "          await google.colab.kernel.invokeFunction('convertToInteractive',\n",
              "                                                    [key], {});\n",
              "        if (!dataTable) return;\n",
              "\n",
              "        const docLinkHtml = 'Like what you see? Visit the ' +\n",
              "          '<a target=\"_blank\" href=https://colab.research.google.com/notebooks/data_table.ipynb>data table notebook</a>'\n",
              "          + ' to learn more about interactive tables.';\n",
              "        element.innerHTML = '';\n",
              "        dataTable['output_type'] = 'display_data';\n",
              "        await google.colab.output.renderOutput(dataTable, element);\n",
              "        const docLink = document.createElement('div');\n",
              "        docLink.innerHTML = docLinkHtml;\n",
              "        element.appendChild(docLink);\n",
              "      }\n",
              "    </script>\n",
              "  </div>\n",
              "\n",
              "\n",
              "<div id=\"df-e7ad545f-1241-4f6a-9c32-96009ceb5060\">\n",
              "  <button class=\"colab-df-quickchart\" onclick=\"quickchart('df-e7ad545f-1241-4f6a-9c32-96009ceb5060')\"\n",
              "            title=\"Suggest charts\"\n",
              "            style=\"display:none;\">\n",
              "\n",
              "<svg xmlns=\"http://www.w3.org/2000/svg\" height=\"24px\"viewBox=\"0 0 24 24\"\n",
              "     width=\"24px\">\n",
              "    <g>\n",
              "        <path d=\"M19 3H5c-1.1 0-2 .9-2 2v14c0 1.1.9 2 2 2h14c1.1 0 2-.9 2-2V5c0-1.1-.9-2-2-2zM9 17H7v-7h2v7zm4 0h-2V7h2v10zm4 0h-2v-4h2v4z\"/>\n",
              "    </g>\n",
              "</svg>\n",
              "  </button>\n",
              "\n",
              "<style>\n",
              "  .colab-df-quickchart {\n",
              "      --bg-color: #E8F0FE;\n",
              "      --fill-color: #1967D2;\n",
              "      --hover-bg-color: #E2EBFA;\n",
              "      --hover-fill-color: #174EA6;\n",
              "      --disabled-fill-color: #AAA;\n",
              "      --disabled-bg-color: #DDD;\n",
              "  }\n",
              "\n",
              "  [theme=dark] .colab-df-quickchart {\n",
              "      --bg-color: #3B4455;\n",
              "      --fill-color: #D2E3FC;\n",
              "      --hover-bg-color: #434B5C;\n",
              "      --hover-fill-color: #FFFFFF;\n",
              "      --disabled-bg-color: #3B4455;\n",
              "      --disabled-fill-color: #666;\n",
              "  }\n",
              "\n",
              "  .colab-df-quickchart {\n",
              "    background-color: var(--bg-color);\n",
              "    border: none;\n",
              "    border-radius: 50%;\n",
              "    cursor: pointer;\n",
              "    display: none;\n",
              "    fill: var(--fill-color);\n",
              "    height: 32px;\n",
              "    padding: 0;\n",
              "    width: 32px;\n",
              "  }\n",
              "\n",
              "  .colab-df-quickchart:hover {\n",
              "    background-color: var(--hover-bg-color);\n",
              "    box-shadow: 0 1px 2px rgba(60, 64, 67, 0.3), 0 1px 3px 1px rgba(60, 64, 67, 0.15);\n",
              "    fill: var(--button-hover-fill-color);\n",
              "  }\n",
              "\n",
              "  .colab-df-quickchart-complete:disabled,\n",
              "  .colab-df-quickchart-complete:disabled:hover {\n",
              "    background-color: var(--disabled-bg-color);\n",
              "    fill: var(--disabled-fill-color);\n",
              "    box-shadow: none;\n",
              "  }\n",
              "\n",
              "  .colab-df-spinner {\n",
              "    border: 2px solid var(--fill-color);\n",
              "    border-color: transparent;\n",
              "    border-bottom-color: var(--fill-color);\n",
              "    animation:\n",
              "      spin 1s steps(1) infinite;\n",
              "  }\n",
              "\n",
              "  @keyframes spin {\n",
              "    0% {\n",
              "      border-color: transparent;\n",
              "      border-bottom-color: var(--fill-color);\n",
              "      border-left-color: var(--fill-color);\n",
              "    }\n",
              "    20% {\n",
              "      border-color: transparent;\n",
              "      border-left-color: var(--fill-color);\n",
              "      border-top-color: var(--fill-color);\n",
              "    }\n",
              "    30% {\n",
              "      border-color: transparent;\n",
              "      border-left-color: var(--fill-color);\n",
              "      border-top-color: var(--fill-color);\n",
              "      border-right-color: var(--fill-color);\n",
              "    }\n",
              "    40% {\n",
              "      border-color: transparent;\n",
              "      border-right-color: var(--fill-color);\n",
              "      border-top-color: var(--fill-color);\n",
              "    }\n",
              "    60% {\n",
              "      border-color: transparent;\n",
              "      border-right-color: var(--fill-color);\n",
              "    }\n",
              "    80% {\n",
              "      border-color: transparent;\n",
              "      border-right-color: var(--fill-color);\n",
              "      border-bottom-color: var(--fill-color);\n",
              "    }\n",
              "    90% {\n",
              "      border-color: transparent;\n",
              "      border-bottom-color: var(--fill-color);\n",
              "    }\n",
              "  }\n",
              "</style>\n",
              "\n",
              "  <script>\n",
              "    async function quickchart(key) {\n",
              "      const quickchartButtonEl =\n",
              "        document.querySelector('#' + key + ' button');\n",
              "      quickchartButtonEl.disabled = true;  // To prevent multiple clicks.\n",
              "      quickchartButtonEl.classList.add('colab-df-spinner');\n",
              "      try {\n",
              "        const charts = await google.colab.kernel.invokeFunction(\n",
              "            'suggestCharts', [key], {});\n",
              "      } catch (error) {\n",
              "        console.error('Error during call to suggestCharts:', error);\n",
              "      }\n",
              "      quickchartButtonEl.classList.remove('colab-df-spinner');\n",
              "      quickchartButtonEl.classList.add('colab-df-quickchart-complete');\n",
              "    }\n",
              "    (() => {\n",
              "      let quickchartButtonEl =\n",
              "        document.querySelector('#df-e7ad545f-1241-4f6a-9c32-96009ceb5060 button');\n",
              "      quickchartButtonEl.style.display =\n",
              "        google.colab.kernel.accessAllowed ? 'block' : 'none';\n",
              "    })();\n",
              "  </script>\n",
              "</div>\n",
              "\n",
              "    </div>\n",
              "  </div>\n"
            ],
            "application/vnd.google.colaboratory.intrinsic+json": {
              "type": "dataframe",
              "variable_name": "df",
              "summary": "{\n  \"name\": \"df\",\n  \"rows\": 398,\n  \"fields\": [\n    {\n      \"column\": \"mpg\",\n      \"properties\": {\n        \"dtype\": \"number\",\n        \"std\": 7.815984312565782,\n        \"min\": 9.0,\n        \"max\": 46.6,\n        \"num_unique_values\": 129,\n        \"samples\": [\n          17.7,\n          30.5,\n          30.0\n        ],\n        \"semantic_type\": \"\",\n        \"description\": \"\"\n      }\n    },\n    {\n      \"column\": \"cylinders\",\n      \"properties\": {\n        \"dtype\": \"number\",\n        \"std\": 1,\n        \"min\": 3,\n        \"max\": 8,\n        \"num_unique_values\": 5,\n        \"samples\": [\n          4,\n          5,\n          6\n        ],\n        \"semantic_type\": \"\",\n        \"description\": \"\"\n      }\n    },\n    {\n      \"column\": \"displacement\",\n      \"properties\": {\n        \"dtype\": \"number\",\n        \"std\": 104.26983817119581,\n        \"min\": 68.0,\n        \"max\": 455.0,\n        \"num_unique_values\": 82,\n        \"samples\": [\n          122.0,\n          307.0,\n          360.0\n        ],\n        \"semantic_type\": \"\",\n        \"description\": \"\"\n      }\n    },\n    {\n      \"column\": \"horsepower\",\n      \"properties\": {\n        \"dtype\": \"category\",\n        \"num_unique_values\": 94,\n        \"samples\": [\n          \"112\",\n          \"?\",\n          \"78\"\n        ],\n        \"semantic_type\": \"\",\n        \"description\": \"\"\n      }\n    },\n    {\n      \"column\": \"weight\",\n      \"properties\": {\n        \"dtype\": \"number\",\n        \"std\": 846,\n        \"min\": 1613,\n        \"max\": 5140,\n        \"num_unique_values\": 351,\n        \"samples\": [\n          3730,\n          1995,\n          2215\n        ],\n        \"semantic_type\": \"\",\n        \"description\": \"\"\n      }\n    },\n    {\n      \"column\": \"acceleration\",\n      \"properties\": {\n        \"dtype\": \"number\",\n        \"std\": 2.7576889298126757,\n        \"min\": 8.0,\n        \"max\": 24.8,\n        \"num_unique_values\": 95,\n        \"samples\": [\n          14.7,\n          18.0,\n          14.3\n        ],\n        \"semantic_type\": \"\",\n        \"description\": \"\"\n      }\n    },\n    {\n      \"column\": \"model year\",\n      \"properties\": {\n        \"dtype\": \"number\",\n        \"std\": 3,\n        \"min\": 70,\n        \"max\": 82,\n        \"num_unique_values\": 13,\n        \"samples\": [\n          81,\n          79,\n          70\n        ],\n        \"semantic_type\": \"\",\n        \"description\": \"\"\n      }\n    },\n    {\n      \"column\": \"origin\",\n      \"properties\": {\n        \"dtype\": \"number\",\n        \"std\": 0,\n        \"min\": 1,\n        \"max\": 3,\n        \"num_unique_values\": 3,\n        \"samples\": [\n          1,\n          3,\n          2\n        ],\n        \"semantic_type\": \"\",\n        \"description\": \"\"\n      }\n    },\n    {\n      \"column\": \"car name\",\n      \"properties\": {\n        \"dtype\": \"string\",\n        \"num_unique_values\": 305,\n        \"samples\": [\n          \"mazda rx-4\",\n          \"ford f108\",\n          \"buick century luxus (sw)\"\n        ],\n        \"semantic_type\": \"\",\n        \"description\": \"\"\n      }\n    }\n  ]\n}"
            }
          },
          "metadata": {},
          "execution_count": 28
        }
      ]
    },
    {
      "cell_type": "markdown",
      "source": [
        "**question 1.2**"
      ],
      "metadata": {
        "id": "t1VwwHwIa0Ts"
      }
    },
    {
      "cell_type": "code",
      "source": [
        "df.shape"
      ],
      "metadata": {
        "colab": {
          "base_uri": "https://localhost:8080/"
        },
        "id": "ZxNYGRz5alBf",
        "outputId": "f376ff7a-e25f-4dd8-806e-8893acd9e80a"
      },
      "execution_count": 101,
      "outputs": [
        {
          "output_type": "execute_result",
          "data": {
            "text/plain": [
              "(398, 11)"
            ]
          },
          "metadata": {},
          "execution_count": 101
        }
      ]
    },
    {
      "cell_type": "markdown",
      "source": [
        "**question** **1.3**"
      ],
      "metadata": {
        "id": "0SKlmLNxa5Fj"
      }
    },
    {
      "cell_type": "code",
      "source": [
        "df.describe()"
      ],
      "metadata": {
        "colab": {
          "base_uri": "https://localhost:8080/",
          "height": 338
        },
        "id": "sEerCsVKanzz",
        "outputId": "bb5670a2-14d4-40bd-e0a6-13e05378e220"
      },
      "execution_count": 102,
      "outputs": [
        {
          "output_type": "execute_result",
          "data": {
            "text/plain": [
              "              mpg   cylinders  displacement  horsepower       weight  \\\n",
              "count  398.000000  398.000000    398.000000  392.000000   398.000000   \n",
              "mean    23.514573    5.454774    193.425879  104.469388  2970.424623   \n",
              "std      7.815984    1.701004    104.269838   38.491160   846.841774   \n",
              "min      9.000000    3.000000     68.000000   46.000000  1613.000000   \n",
              "25%     17.500000    4.000000    104.250000   75.000000  2223.750000   \n",
              "50%     23.000000    4.000000    148.500000   93.500000  2803.500000   \n",
              "75%     29.000000    8.000000    262.000000  126.000000  3608.000000   \n",
              "max     46.600000    8.000000    455.000000  230.000000  5140.000000   \n",
              "\n",
              "       acceleration  model year      origin  power_to_weight_ratio  \\\n",
              "count    398.000000  398.000000  398.000000             392.000000   \n",
              "mean      15.568090   76.010050    1.572864               0.034833   \n",
              "std        2.757689    3.697627    0.802055               0.005935   \n",
              "min        8.000000   70.000000    1.000000               0.020557   \n",
              "25%       13.825000   73.000000    1.000000               0.030820   \n",
              "50%       15.500000   76.000000    1.000000               0.034285   \n",
              "75%       17.175000   79.000000    2.000000               0.038082   \n",
              "max       24.800000   82.000000    3.000000               0.072910   \n",
              "\n",
              "       performance_score  \n",
              "count         398.000000  \n",
              "mean            0.148889  \n",
              "std             0.094161  \n",
              "min             0.026117  \n",
              "25%             0.073722  \n",
              "50%             0.129122  \n",
              "75%             0.209431  \n",
              "max             0.508169  "
            ],
            "text/html": [
              "\n",
              "  <div id=\"df-b6ed60a6-f5ea-4d11-b067-d90a6ce402a6\" class=\"colab-df-container\">\n",
              "    <div>\n",
              "<style scoped>\n",
              "    .dataframe tbody tr th:only-of-type {\n",
              "        vertical-align: middle;\n",
              "    }\n",
              "\n",
              "    .dataframe tbody tr th {\n",
              "        vertical-align: top;\n",
              "    }\n",
              "\n",
              "    .dataframe thead th {\n",
              "        text-align: right;\n",
              "    }\n",
              "</style>\n",
              "<table border=\"1\" class=\"dataframe\">\n",
              "  <thead>\n",
              "    <tr style=\"text-align: right;\">\n",
              "      <th></th>\n",
              "      <th>mpg</th>\n",
              "      <th>cylinders</th>\n",
              "      <th>displacement</th>\n",
              "      <th>horsepower</th>\n",
              "      <th>weight</th>\n",
              "      <th>acceleration</th>\n",
              "      <th>model year</th>\n",
              "      <th>origin</th>\n",
              "      <th>power_to_weight_ratio</th>\n",
              "      <th>performance_score</th>\n",
              "    </tr>\n",
              "  </thead>\n",
              "  <tbody>\n",
              "    <tr>\n",
              "      <th>count</th>\n",
              "      <td>398.000000</td>\n",
              "      <td>398.000000</td>\n",
              "      <td>398.000000</td>\n",
              "      <td>392.000000</td>\n",
              "      <td>398.000000</td>\n",
              "      <td>398.000000</td>\n",
              "      <td>398.000000</td>\n",
              "      <td>398.000000</td>\n",
              "      <td>392.000000</td>\n",
              "      <td>398.000000</td>\n",
              "    </tr>\n",
              "    <tr>\n",
              "      <th>mean</th>\n",
              "      <td>23.514573</td>\n",
              "      <td>5.454774</td>\n",
              "      <td>193.425879</td>\n",
              "      <td>104.469388</td>\n",
              "      <td>2970.424623</td>\n",
              "      <td>15.568090</td>\n",
              "      <td>76.010050</td>\n",
              "      <td>1.572864</td>\n",
              "      <td>0.034833</td>\n",
              "      <td>0.148889</td>\n",
              "    </tr>\n",
              "    <tr>\n",
              "      <th>std</th>\n",
              "      <td>7.815984</td>\n",
              "      <td>1.701004</td>\n",
              "      <td>104.269838</td>\n",
              "      <td>38.491160</td>\n",
              "      <td>846.841774</td>\n",
              "      <td>2.757689</td>\n",
              "      <td>3.697627</td>\n",
              "      <td>0.802055</td>\n",
              "      <td>0.005935</td>\n",
              "      <td>0.094161</td>\n",
              "    </tr>\n",
              "    <tr>\n",
              "      <th>min</th>\n",
              "      <td>9.000000</td>\n",
              "      <td>3.000000</td>\n",
              "      <td>68.000000</td>\n",
              "      <td>46.000000</td>\n",
              "      <td>1613.000000</td>\n",
              "      <td>8.000000</td>\n",
              "      <td>70.000000</td>\n",
              "      <td>1.000000</td>\n",
              "      <td>0.020557</td>\n",
              "      <td>0.026117</td>\n",
              "    </tr>\n",
              "    <tr>\n",
              "      <th>25%</th>\n",
              "      <td>17.500000</td>\n",
              "      <td>4.000000</td>\n",
              "      <td>104.250000</td>\n",
              "      <td>75.000000</td>\n",
              "      <td>2223.750000</td>\n",
              "      <td>13.825000</td>\n",
              "      <td>73.000000</td>\n",
              "      <td>1.000000</td>\n",
              "      <td>0.030820</td>\n",
              "      <td>0.073722</td>\n",
              "    </tr>\n",
              "    <tr>\n",
              "      <th>50%</th>\n",
              "      <td>23.000000</td>\n",
              "      <td>4.000000</td>\n",
              "      <td>148.500000</td>\n",
              "      <td>93.500000</td>\n",
              "      <td>2803.500000</td>\n",
              "      <td>15.500000</td>\n",
              "      <td>76.000000</td>\n",
              "      <td>1.000000</td>\n",
              "      <td>0.034285</td>\n",
              "      <td>0.129122</td>\n",
              "    </tr>\n",
              "    <tr>\n",
              "      <th>75%</th>\n",
              "      <td>29.000000</td>\n",
              "      <td>8.000000</td>\n",
              "      <td>262.000000</td>\n",
              "      <td>126.000000</td>\n",
              "      <td>3608.000000</td>\n",
              "      <td>17.175000</td>\n",
              "      <td>79.000000</td>\n",
              "      <td>2.000000</td>\n",
              "      <td>0.038082</td>\n",
              "      <td>0.209431</td>\n",
              "    </tr>\n",
              "    <tr>\n",
              "      <th>max</th>\n",
              "      <td>46.600000</td>\n",
              "      <td>8.000000</td>\n",
              "      <td>455.000000</td>\n",
              "      <td>230.000000</td>\n",
              "      <td>5140.000000</td>\n",
              "      <td>24.800000</td>\n",
              "      <td>82.000000</td>\n",
              "      <td>3.000000</td>\n",
              "      <td>0.072910</td>\n",
              "      <td>0.508169</td>\n",
              "    </tr>\n",
              "  </tbody>\n",
              "</table>\n",
              "</div>\n",
              "    <div class=\"colab-df-buttons\">\n",
              "\n",
              "  <div class=\"colab-df-container\">\n",
              "    <button class=\"colab-df-convert\" onclick=\"convertToInteractive('df-b6ed60a6-f5ea-4d11-b067-d90a6ce402a6')\"\n",
              "            title=\"Convert this dataframe to an interactive table.\"\n",
              "            style=\"display:none;\">\n",
              "\n",
              "  <svg xmlns=\"http://www.w3.org/2000/svg\" height=\"24px\" viewBox=\"0 -960 960 960\">\n",
              "    <path d=\"M120-120v-720h720v720H120Zm60-500h600v-160H180v160Zm220 220h160v-160H400v160Zm0 220h160v-160H400v160ZM180-400h160v-160H180v160Zm440 0h160v-160H620v160ZM180-180h160v-160H180v160Zm440 0h160v-160H620v160Z\"/>\n",
              "  </svg>\n",
              "    </button>\n",
              "\n",
              "  <style>\n",
              "    .colab-df-container {\n",
              "      display:flex;\n",
              "      gap: 12px;\n",
              "    }\n",
              "\n",
              "    .colab-df-convert {\n",
              "      background-color: #E8F0FE;\n",
              "      border: none;\n",
              "      border-radius: 50%;\n",
              "      cursor: pointer;\n",
              "      display: none;\n",
              "      fill: #1967D2;\n",
              "      height: 32px;\n",
              "      padding: 0 0 0 0;\n",
              "      width: 32px;\n",
              "    }\n",
              "\n",
              "    .colab-df-convert:hover {\n",
              "      background-color: #E2EBFA;\n",
              "      box-shadow: 0px 1px 2px rgba(60, 64, 67, 0.3), 0px 1px 3px 1px rgba(60, 64, 67, 0.15);\n",
              "      fill: #174EA6;\n",
              "    }\n",
              "\n",
              "    .colab-df-buttons div {\n",
              "      margin-bottom: 4px;\n",
              "    }\n",
              "\n",
              "    [theme=dark] .colab-df-convert {\n",
              "      background-color: #3B4455;\n",
              "      fill: #D2E3FC;\n",
              "    }\n",
              "\n",
              "    [theme=dark] .colab-df-convert:hover {\n",
              "      background-color: #434B5C;\n",
              "      box-shadow: 0px 1px 3px 1px rgba(0, 0, 0, 0.15);\n",
              "      filter: drop-shadow(0px 1px 2px rgba(0, 0, 0, 0.3));\n",
              "      fill: #FFFFFF;\n",
              "    }\n",
              "  </style>\n",
              "\n",
              "    <script>\n",
              "      const buttonEl =\n",
              "        document.querySelector('#df-b6ed60a6-f5ea-4d11-b067-d90a6ce402a6 button.colab-df-convert');\n",
              "      buttonEl.style.display =\n",
              "        google.colab.kernel.accessAllowed ? 'block' : 'none';\n",
              "\n",
              "      async function convertToInteractive(key) {\n",
              "        const element = document.querySelector('#df-b6ed60a6-f5ea-4d11-b067-d90a6ce402a6');\n",
              "        const dataTable =\n",
              "          await google.colab.kernel.invokeFunction('convertToInteractive',\n",
              "                                                    [key], {});\n",
              "        if (!dataTable) return;\n",
              "\n",
              "        const docLinkHtml = 'Like what you see? Visit the ' +\n",
              "          '<a target=\"_blank\" href=https://colab.research.google.com/notebooks/data_table.ipynb>data table notebook</a>'\n",
              "          + ' to learn more about interactive tables.';\n",
              "        element.innerHTML = '';\n",
              "        dataTable['output_type'] = 'display_data';\n",
              "        await google.colab.output.renderOutput(dataTable, element);\n",
              "        const docLink = document.createElement('div');\n",
              "        docLink.innerHTML = docLinkHtml;\n",
              "        element.appendChild(docLink);\n",
              "      }\n",
              "    </script>\n",
              "  </div>\n",
              "\n",
              "\n",
              "<div id=\"df-8dfd1819-8f35-474d-8611-ccfec425f67c\">\n",
              "  <button class=\"colab-df-quickchart\" onclick=\"quickchart('df-8dfd1819-8f35-474d-8611-ccfec425f67c')\"\n",
              "            title=\"Suggest charts\"\n",
              "            style=\"display:none;\">\n",
              "\n",
              "<svg xmlns=\"http://www.w3.org/2000/svg\" height=\"24px\"viewBox=\"0 0 24 24\"\n",
              "     width=\"24px\">\n",
              "    <g>\n",
              "        <path d=\"M19 3H5c-1.1 0-2 .9-2 2v14c0 1.1.9 2 2 2h14c1.1 0 2-.9 2-2V5c0-1.1-.9-2-2-2zM9 17H7v-7h2v7zm4 0h-2V7h2v10zm4 0h-2v-4h2v4z\"/>\n",
              "    </g>\n",
              "</svg>\n",
              "  </button>\n",
              "\n",
              "<style>\n",
              "  .colab-df-quickchart {\n",
              "      --bg-color: #E8F0FE;\n",
              "      --fill-color: #1967D2;\n",
              "      --hover-bg-color: #E2EBFA;\n",
              "      --hover-fill-color: #174EA6;\n",
              "      --disabled-fill-color: #AAA;\n",
              "      --disabled-bg-color: #DDD;\n",
              "  }\n",
              "\n",
              "  [theme=dark] .colab-df-quickchart {\n",
              "      --bg-color: #3B4455;\n",
              "      --fill-color: #D2E3FC;\n",
              "      --hover-bg-color: #434B5C;\n",
              "      --hover-fill-color: #FFFFFF;\n",
              "      --disabled-bg-color: #3B4455;\n",
              "      --disabled-fill-color: #666;\n",
              "  }\n",
              "\n",
              "  .colab-df-quickchart {\n",
              "    background-color: var(--bg-color);\n",
              "    border: none;\n",
              "    border-radius: 50%;\n",
              "    cursor: pointer;\n",
              "    display: none;\n",
              "    fill: var(--fill-color);\n",
              "    height: 32px;\n",
              "    padding: 0;\n",
              "    width: 32px;\n",
              "  }\n",
              "\n",
              "  .colab-df-quickchart:hover {\n",
              "    background-color: var(--hover-bg-color);\n",
              "    box-shadow: 0 1px 2px rgba(60, 64, 67, 0.3), 0 1px 3px 1px rgba(60, 64, 67, 0.15);\n",
              "    fill: var(--button-hover-fill-color);\n",
              "  }\n",
              "\n",
              "  .colab-df-quickchart-complete:disabled,\n",
              "  .colab-df-quickchart-complete:disabled:hover {\n",
              "    background-color: var(--disabled-bg-color);\n",
              "    fill: var(--disabled-fill-color);\n",
              "    box-shadow: none;\n",
              "  }\n",
              "\n",
              "  .colab-df-spinner {\n",
              "    border: 2px solid var(--fill-color);\n",
              "    border-color: transparent;\n",
              "    border-bottom-color: var(--fill-color);\n",
              "    animation:\n",
              "      spin 1s steps(1) infinite;\n",
              "  }\n",
              "\n",
              "  @keyframes spin {\n",
              "    0% {\n",
              "      border-color: transparent;\n",
              "      border-bottom-color: var(--fill-color);\n",
              "      border-left-color: var(--fill-color);\n",
              "    }\n",
              "    20% {\n",
              "      border-color: transparent;\n",
              "      border-left-color: var(--fill-color);\n",
              "      border-top-color: var(--fill-color);\n",
              "    }\n",
              "    30% {\n",
              "      border-color: transparent;\n",
              "      border-left-color: var(--fill-color);\n",
              "      border-top-color: var(--fill-color);\n",
              "      border-right-color: var(--fill-color);\n",
              "    }\n",
              "    40% {\n",
              "      border-color: transparent;\n",
              "      border-right-color: var(--fill-color);\n",
              "      border-top-color: var(--fill-color);\n",
              "    }\n",
              "    60% {\n",
              "      border-color: transparent;\n",
              "      border-right-color: var(--fill-color);\n",
              "    }\n",
              "    80% {\n",
              "      border-color: transparent;\n",
              "      border-right-color: var(--fill-color);\n",
              "      border-bottom-color: var(--fill-color);\n",
              "    }\n",
              "    90% {\n",
              "      border-color: transparent;\n",
              "      border-bottom-color: var(--fill-color);\n",
              "    }\n",
              "  }\n",
              "</style>\n",
              "\n",
              "  <script>\n",
              "    async function quickchart(key) {\n",
              "      const quickchartButtonEl =\n",
              "        document.querySelector('#' + key + ' button');\n",
              "      quickchartButtonEl.disabled = true;  // To prevent multiple clicks.\n",
              "      quickchartButtonEl.classList.add('colab-df-spinner');\n",
              "      try {\n",
              "        const charts = await google.colab.kernel.invokeFunction(\n",
              "            'suggestCharts', [key], {});\n",
              "      } catch (error) {\n",
              "        console.error('Error during call to suggestCharts:', error);\n",
              "      }\n",
              "      quickchartButtonEl.classList.remove('colab-df-spinner');\n",
              "      quickchartButtonEl.classList.add('colab-df-quickchart-complete');\n",
              "    }\n",
              "    (() => {\n",
              "      let quickchartButtonEl =\n",
              "        document.querySelector('#df-8dfd1819-8f35-474d-8611-ccfec425f67c button');\n",
              "      quickchartButtonEl.style.display =\n",
              "        google.colab.kernel.accessAllowed ? 'block' : 'none';\n",
              "    })();\n",
              "  </script>\n",
              "</div>\n",
              "\n",
              "    </div>\n",
              "  </div>\n"
            ],
            "application/vnd.google.colaboratory.intrinsic+json": {
              "type": "dataframe",
              "summary": "{\n  \"name\": \"df\",\n  \"rows\": 8,\n  \"fields\": [\n    {\n      \"column\": \"mpg\",\n      \"properties\": {\n        \"dtype\": \"number\",\n        \"std\": 133.37523833494922,\n        \"min\": 7.815984312565782,\n        \"max\": 398.0,\n        \"num_unique_values\": 8,\n        \"samples\": [\n          23.514572864321607,\n          23.0,\n          398.0\n        ],\n        \"semantic_type\": \"\",\n        \"description\": \"\"\n      }\n    },\n    {\n      \"column\": \"cylinders\",\n      \"properties\": {\n        \"dtype\": \"number\",\n        \"std\": 139.0071020301553,\n        \"min\": 1.7010042445332094,\n        \"max\": 398.0,\n        \"num_unique_values\": 6,\n        \"samples\": [\n          398.0,\n          5.454773869346734,\n          8.0\n        ],\n        \"semantic_type\": \"\",\n        \"description\": \"\"\n      }\n    },\n    {\n      \"column\": \"displacement\",\n      \"properties\": {\n        \"dtype\": \"number\",\n        \"std\": 143.57617465667641,\n        \"min\": 68.0,\n        \"max\": 455.0,\n        \"num_unique_values\": 8,\n        \"samples\": [\n          193.42587939698493,\n          148.5,\n          398.0\n        ],\n        \"semantic_type\": \"\",\n        \"description\": \"\"\n      }\n    },\n    {\n      \"column\": \"horsepower\",\n      \"properties\": {\n        \"dtype\": \"number\",\n        \"std\": 118.66115898346133,\n        \"min\": 38.49115993282855,\n        \"max\": 392.0,\n        \"num_unique_values\": 8,\n        \"samples\": [\n          104.46938775510205,\n          93.5,\n          392.0\n        ],\n        \"semantic_type\": \"\",\n        \"description\": \"\"\n      }\n    },\n    {\n      \"column\": \"weight\",\n      \"properties\": {\n        \"dtype\": \"number\",\n        \"std\": 1535.5522437115258,\n        \"min\": 398.0,\n        \"max\": 5140.0,\n        \"num_unique_values\": 8,\n        \"samples\": [\n          2970.424623115578,\n          2803.5,\n          398.0\n        ],\n        \"semantic_type\": \"\",\n        \"description\": \"\"\n      }\n    },\n    {\n      \"column\": \"acceleration\",\n      \"properties\": {\n        \"dtype\": \"number\",\n        \"std\": 135.93788360342714,\n        \"min\": 2.7576889298126757,\n        \"max\": 398.0,\n        \"num_unique_values\": 8,\n        \"samples\": [\n          15.568090452261307,\n          15.5,\n          398.0\n        ],\n        \"semantic_type\": \"\",\n        \"description\": \"\"\n      }\n    },\n    {\n      \"column\": \"model year\",\n      \"properties\": {\n        \"dtype\": \"number\",\n        \"std\": 120.24225119423292,\n        \"min\": 3.697626646732623,\n        \"max\": 398.0,\n        \"num_unique_values\": 8,\n        \"samples\": [\n          76.01005025125629,\n          76.0,\n          398.0\n        ],\n        \"semantic_type\": \"\",\n        \"description\": \"\"\n      }\n    },\n    {\n      \"column\": \"origin\",\n      \"properties\": {\n        \"dtype\": \"number\",\n        \"std\": 140.19214256834297,\n        \"min\": 0.8020548777266163,\n        \"max\": 398.0,\n        \"num_unique_values\": 6,\n        \"samples\": [\n          398.0,\n          1.5728643216080402,\n          3.0\n        ],\n        \"semantic_type\": \"\",\n        \"description\": \"\"\n      }\n    },\n    {\n      \"column\": \"power_to_weight_ratio\",\n      \"properties\": {\n        \"dtype\": \"number\",\n        \"std\": 138.58093881387782,\n        \"min\": 0.005934516042848571,\n        \"max\": 392.0,\n        \"num_unique_values\": 8,\n        \"samples\": [\n          0.034833424174143285,\n          0.034285326221168574,\n          392.0\n        ],\n        \"semantic_type\": \"\",\n        \"description\": \"\"\n      }\n    },\n    {\n      \"column\": \"performance_score\",\n      \"properties\": {\n        \"dtype\": \"number\",\n        \"std\": 140.65424309548,\n        \"min\": 0.02611698683358515,\n        \"max\": 398.0,\n        \"num_unique_values\": 8,\n        \"samples\": [\n          0.14888918735262416,\n          0.12912160854139793,\n          398.0\n        ],\n        \"semantic_type\": \"\",\n        \"description\": \"\"\n      }\n    }\n  ]\n}"
            }
          },
          "metadata": {},
          "execution_count": 102
        }
      ]
    },
    {
      "cell_type": "markdown",
      "source": [
        "**Question 2**"
      ],
      "metadata": {
        "id": "rdLPBRexa73D"
      }
    },
    {
      "cell_type": "code",
      "source": [
        "df[(df[\"weight\"] < 3000) & (df[\"model year\"] == 75)][[\"car name\", \"model year\"]]"
      ],
      "metadata": {
        "colab": {
          "base_uri": "https://localhost:8080/",
          "height": 488
        },
        "id": "XnTYxePNa9mc",
        "outputId": "2d329f3d-8f7a-4ba4-9242-15879a9994a5"
      },
      "execution_count": 12,
      "outputs": [
        {
          "output_type": "execute_result",
          "data": {
            "text/plain": [
              "              car name  model year\n",
              "167     toyota corolla          75\n",
              "168         ford pinto          75\n",
              "169        amc gremlin          75\n",
              "170      pontiac astro          75\n",
              "171      toyota corona          75\n",
              "172  volkswagen dasher          75\n",
              "173         datsun 710          75\n",
              "174         ford pinto          75\n",
              "175  volkswagen rabbit          75\n",
              "177         audi 100ls          75\n",
              "178        peugeot 504          75\n",
              "179        volvo 244dl          75\n",
              "180          saab 99le          75\n",
              "181   honda civic cvcc          75"
            ],
            "text/html": [
              "\n",
              "  <div id=\"df-ceae91b0-5760-4b0c-be86-2a08583b331e\" class=\"colab-df-container\">\n",
              "    <div>\n",
              "<style scoped>\n",
              "    .dataframe tbody tr th:only-of-type {\n",
              "        vertical-align: middle;\n",
              "    }\n",
              "\n",
              "    .dataframe tbody tr th {\n",
              "        vertical-align: top;\n",
              "    }\n",
              "\n",
              "    .dataframe thead th {\n",
              "        text-align: right;\n",
              "    }\n",
              "</style>\n",
              "<table border=\"1\" class=\"dataframe\">\n",
              "  <thead>\n",
              "    <tr style=\"text-align: right;\">\n",
              "      <th></th>\n",
              "      <th>car name</th>\n",
              "      <th>model year</th>\n",
              "    </tr>\n",
              "  </thead>\n",
              "  <tbody>\n",
              "    <tr>\n",
              "      <th>167</th>\n",
              "      <td>toyota corolla</td>\n",
              "      <td>75</td>\n",
              "    </tr>\n",
              "    <tr>\n",
              "      <th>168</th>\n",
              "      <td>ford pinto</td>\n",
              "      <td>75</td>\n",
              "    </tr>\n",
              "    <tr>\n",
              "      <th>169</th>\n",
              "      <td>amc gremlin</td>\n",
              "      <td>75</td>\n",
              "    </tr>\n",
              "    <tr>\n",
              "      <th>170</th>\n",
              "      <td>pontiac astro</td>\n",
              "      <td>75</td>\n",
              "    </tr>\n",
              "    <tr>\n",
              "      <th>171</th>\n",
              "      <td>toyota corona</td>\n",
              "      <td>75</td>\n",
              "    </tr>\n",
              "    <tr>\n",
              "      <th>172</th>\n",
              "      <td>volkswagen dasher</td>\n",
              "      <td>75</td>\n",
              "    </tr>\n",
              "    <tr>\n",
              "      <th>173</th>\n",
              "      <td>datsun 710</td>\n",
              "      <td>75</td>\n",
              "    </tr>\n",
              "    <tr>\n",
              "      <th>174</th>\n",
              "      <td>ford pinto</td>\n",
              "      <td>75</td>\n",
              "    </tr>\n",
              "    <tr>\n",
              "      <th>175</th>\n",
              "      <td>volkswagen rabbit</td>\n",
              "      <td>75</td>\n",
              "    </tr>\n",
              "    <tr>\n",
              "      <th>177</th>\n",
              "      <td>audi 100ls</td>\n",
              "      <td>75</td>\n",
              "    </tr>\n",
              "    <tr>\n",
              "      <th>178</th>\n",
              "      <td>peugeot 504</td>\n",
              "      <td>75</td>\n",
              "    </tr>\n",
              "    <tr>\n",
              "      <th>179</th>\n",
              "      <td>volvo 244dl</td>\n",
              "      <td>75</td>\n",
              "    </tr>\n",
              "    <tr>\n",
              "      <th>180</th>\n",
              "      <td>saab 99le</td>\n",
              "      <td>75</td>\n",
              "    </tr>\n",
              "    <tr>\n",
              "      <th>181</th>\n",
              "      <td>honda civic cvcc</td>\n",
              "      <td>75</td>\n",
              "    </tr>\n",
              "  </tbody>\n",
              "</table>\n",
              "</div>\n",
              "    <div class=\"colab-df-buttons\">\n",
              "\n",
              "  <div class=\"colab-df-container\">\n",
              "    <button class=\"colab-df-convert\" onclick=\"convertToInteractive('df-ceae91b0-5760-4b0c-be86-2a08583b331e')\"\n",
              "            title=\"Convert this dataframe to an interactive table.\"\n",
              "            style=\"display:none;\">\n",
              "\n",
              "  <svg xmlns=\"http://www.w3.org/2000/svg\" height=\"24px\" viewBox=\"0 -960 960 960\">\n",
              "    <path d=\"M120-120v-720h720v720H120Zm60-500h600v-160H180v160Zm220 220h160v-160H400v160Zm0 220h160v-160H400v160ZM180-400h160v-160H180v160Zm440 0h160v-160H620v160ZM180-180h160v-160H180v160Zm440 0h160v-160H620v160Z\"/>\n",
              "  </svg>\n",
              "    </button>\n",
              "\n",
              "  <style>\n",
              "    .colab-df-container {\n",
              "      display:flex;\n",
              "      gap: 12px;\n",
              "    }\n",
              "\n",
              "    .colab-df-convert {\n",
              "      background-color: #E8F0FE;\n",
              "      border: none;\n",
              "      border-radius: 50%;\n",
              "      cursor: pointer;\n",
              "      display: none;\n",
              "      fill: #1967D2;\n",
              "      height: 32px;\n",
              "      padding: 0 0 0 0;\n",
              "      width: 32px;\n",
              "    }\n",
              "\n",
              "    .colab-df-convert:hover {\n",
              "      background-color: #E2EBFA;\n",
              "      box-shadow: 0px 1px 2px rgba(60, 64, 67, 0.3), 0px 1px 3px 1px rgba(60, 64, 67, 0.15);\n",
              "      fill: #174EA6;\n",
              "    }\n",
              "\n",
              "    .colab-df-buttons div {\n",
              "      margin-bottom: 4px;\n",
              "    }\n",
              "\n",
              "    [theme=dark] .colab-df-convert {\n",
              "      background-color: #3B4455;\n",
              "      fill: #D2E3FC;\n",
              "    }\n",
              "\n",
              "    [theme=dark] .colab-df-convert:hover {\n",
              "      background-color: #434B5C;\n",
              "      box-shadow: 0px 1px 3px 1px rgba(0, 0, 0, 0.15);\n",
              "      filter: drop-shadow(0px 1px 2px rgba(0, 0, 0, 0.3));\n",
              "      fill: #FFFFFF;\n",
              "    }\n",
              "  </style>\n",
              "\n",
              "    <script>\n",
              "      const buttonEl =\n",
              "        document.querySelector('#df-ceae91b0-5760-4b0c-be86-2a08583b331e button.colab-df-convert');\n",
              "      buttonEl.style.display =\n",
              "        google.colab.kernel.accessAllowed ? 'block' : 'none';\n",
              "\n",
              "      async function convertToInteractive(key) {\n",
              "        const element = document.querySelector('#df-ceae91b0-5760-4b0c-be86-2a08583b331e');\n",
              "        const dataTable =\n",
              "          await google.colab.kernel.invokeFunction('convertToInteractive',\n",
              "                                                    [key], {});\n",
              "        if (!dataTable) return;\n",
              "\n",
              "        const docLinkHtml = 'Like what you see? Visit the ' +\n",
              "          '<a target=\"_blank\" href=https://colab.research.google.com/notebooks/data_table.ipynb>data table notebook</a>'\n",
              "          + ' to learn more about interactive tables.';\n",
              "        element.innerHTML = '';\n",
              "        dataTable['output_type'] = 'display_data';\n",
              "        await google.colab.output.renderOutput(dataTable, element);\n",
              "        const docLink = document.createElement('div');\n",
              "        docLink.innerHTML = docLinkHtml;\n",
              "        element.appendChild(docLink);\n",
              "      }\n",
              "    </script>\n",
              "  </div>\n",
              "\n",
              "\n",
              "<div id=\"df-0e0f05cf-6a4e-4653-8224-e006357e418b\">\n",
              "  <button class=\"colab-df-quickchart\" onclick=\"quickchart('df-0e0f05cf-6a4e-4653-8224-e006357e418b')\"\n",
              "            title=\"Suggest charts\"\n",
              "            style=\"display:none;\">\n",
              "\n",
              "<svg xmlns=\"http://www.w3.org/2000/svg\" height=\"24px\"viewBox=\"0 0 24 24\"\n",
              "     width=\"24px\">\n",
              "    <g>\n",
              "        <path d=\"M19 3H5c-1.1 0-2 .9-2 2v14c0 1.1.9 2 2 2h14c1.1 0 2-.9 2-2V5c0-1.1-.9-2-2-2zM9 17H7v-7h2v7zm4 0h-2V7h2v10zm4 0h-2v-4h2v4z\"/>\n",
              "    </g>\n",
              "</svg>\n",
              "  </button>\n",
              "\n",
              "<style>\n",
              "  .colab-df-quickchart {\n",
              "      --bg-color: #E8F0FE;\n",
              "      --fill-color: #1967D2;\n",
              "      --hover-bg-color: #E2EBFA;\n",
              "      --hover-fill-color: #174EA6;\n",
              "      --disabled-fill-color: #AAA;\n",
              "      --disabled-bg-color: #DDD;\n",
              "  }\n",
              "\n",
              "  [theme=dark] .colab-df-quickchart {\n",
              "      --bg-color: #3B4455;\n",
              "      --fill-color: #D2E3FC;\n",
              "      --hover-bg-color: #434B5C;\n",
              "      --hover-fill-color: #FFFFFF;\n",
              "      --disabled-bg-color: #3B4455;\n",
              "      --disabled-fill-color: #666;\n",
              "  }\n",
              "\n",
              "  .colab-df-quickchart {\n",
              "    background-color: var(--bg-color);\n",
              "    border: none;\n",
              "    border-radius: 50%;\n",
              "    cursor: pointer;\n",
              "    display: none;\n",
              "    fill: var(--fill-color);\n",
              "    height: 32px;\n",
              "    padding: 0;\n",
              "    width: 32px;\n",
              "  }\n",
              "\n",
              "  .colab-df-quickchart:hover {\n",
              "    background-color: var(--hover-bg-color);\n",
              "    box-shadow: 0 1px 2px rgba(60, 64, 67, 0.3), 0 1px 3px 1px rgba(60, 64, 67, 0.15);\n",
              "    fill: var(--button-hover-fill-color);\n",
              "  }\n",
              "\n",
              "  .colab-df-quickchart-complete:disabled,\n",
              "  .colab-df-quickchart-complete:disabled:hover {\n",
              "    background-color: var(--disabled-bg-color);\n",
              "    fill: var(--disabled-fill-color);\n",
              "    box-shadow: none;\n",
              "  }\n",
              "\n",
              "  .colab-df-spinner {\n",
              "    border: 2px solid var(--fill-color);\n",
              "    border-color: transparent;\n",
              "    border-bottom-color: var(--fill-color);\n",
              "    animation:\n",
              "      spin 1s steps(1) infinite;\n",
              "  }\n",
              "\n",
              "  @keyframes spin {\n",
              "    0% {\n",
              "      border-color: transparent;\n",
              "      border-bottom-color: var(--fill-color);\n",
              "      border-left-color: var(--fill-color);\n",
              "    }\n",
              "    20% {\n",
              "      border-color: transparent;\n",
              "      border-left-color: var(--fill-color);\n",
              "      border-top-color: var(--fill-color);\n",
              "    }\n",
              "    30% {\n",
              "      border-color: transparent;\n",
              "      border-left-color: var(--fill-color);\n",
              "      border-top-color: var(--fill-color);\n",
              "      border-right-color: var(--fill-color);\n",
              "    }\n",
              "    40% {\n",
              "      border-color: transparent;\n",
              "      border-right-color: var(--fill-color);\n",
              "      border-top-color: var(--fill-color);\n",
              "    }\n",
              "    60% {\n",
              "      border-color: transparent;\n",
              "      border-right-color: var(--fill-color);\n",
              "    }\n",
              "    80% {\n",
              "      border-color: transparent;\n",
              "      border-right-color: var(--fill-color);\n",
              "      border-bottom-color: var(--fill-color);\n",
              "    }\n",
              "    90% {\n",
              "      border-color: transparent;\n",
              "      border-bottom-color: var(--fill-color);\n",
              "    }\n",
              "  }\n",
              "</style>\n",
              "\n",
              "  <script>\n",
              "    async function quickchart(key) {\n",
              "      const quickchartButtonEl =\n",
              "        document.querySelector('#' + key + ' button');\n",
              "      quickchartButtonEl.disabled = true;  // To prevent multiple clicks.\n",
              "      quickchartButtonEl.classList.add('colab-df-spinner');\n",
              "      try {\n",
              "        const charts = await google.colab.kernel.invokeFunction(\n",
              "            'suggestCharts', [key], {});\n",
              "      } catch (error) {\n",
              "        console.error('Error during call to suggestCharts:', error);\n",
              "      }\n",
              "      quickchartButtonEl.classList.remove('colab-df-spinner');\n",
              "      quickchartButtonEl.classList.add('colab-df-quickchart-complete');\n",
              "    }\n",
              "    (() => {\n",
              "      let quickchartButtonEl =\n",
              "        document.querySelector('#df-0e0f05cf-6a4e-4653-8224-e006357e418b button');\n",
              "      quickchartButtonEl.style.display =\n",
              "        google.colab.kernel.accessAllowed ? 'block' : 'none';\n",
              "    })();\n",
              "  </script>\n",
              "</div>\n",
              "\n",
              "    </div>\n",
              "  </div>\n"
            ],
            "application/vnd.google.colaboratory.intrinsic+json": {
              "type": "dataframe",
              "summary": "{\n  \"name\": \"df[(df[\\\"weight\\\"] < 3000) & (df[\\\"model year\\\"] == 75)][[\\\"car name\\\", \\\"model year\\\"]]\",\n  \"rows\": 14,\n  \"fields\": [\n    {\n      \"column\": \"car name\",\n      \"properties\": {\n        \"dtype\": \"string\",\n        \"num_unique_values\": 13,\n        \"samples\": [\n          \"saab 99le\",\n          \"peugeot 504\",\n          \"toyota corolla\"\n        ],\n        \"semantic_type\": \"\",\n        \"description\": \"\"\n      }\n    },\n    {\n      \"column\": \"model year\",\n      \"properties\": {\n        \"dtype\": \"number\",\n        \"std\": 0,\n        \"min\": 75,\n        \"max\": 75,\n        \"num_unique_values\": 1,\n        \"samples\": [\n          75\n        ],\n        \"semantic_type\": \"\",\n        \"description\": \"\"\n      }\n    }\n  ]\n}"
            }
          },
          "metadata": {},
          "execution_count": 12
        }
      ]
    },
    {
      "cell_type": "markdown",
      "source": [
        "**Question 3**"
      ],
      "metadata": {
        "id": "foL9g_zEHw2X"
      }
    },
    {
      "cell_type": "code",
      "source": [
        "print(\"Missing values in the dataset:\")\n",
        "print(df.isnull().sum())\n"
      ],
      "metadata": {
        "colab": {
          "base_uri": "https://localhost:8080/"
        },
        "id": "WsEsV521HuAX",
        "outputId": "7baab00d-18c6-4ba3-b0b7-7daffba5828c"
      },
      "execution_count": 16,
      "outputs": [
        {
          "output_type": "stream",
          "name": "stdout",
          "text": [
            "Missing values in the dataset:\n",
            "mpg             0\n",
            "cylinders       0\n",
            "displacement    0\n",
            "horsepower      0\n",
            "weight          0\n",
            "acceleration    0\n",
            "model year      0\n",
            "origin          0\n",
            "car name        0\n",
            "dtype: int64\n"
          ]
        }
      ]
    },
    {
      "cell_type": "code",
      "source": [
        "horsepower_median = (df[\"horsepower\"].median)\n",
        "print(horsepower_median)\n"
      ],
      "metadata": {
        "colab": {
          "base_uri": "https://localhost:8080/"
        },
        "id": "C_7oJh5ZJmnG",
        "outputId": "bb4a49eb-a988-4c97-c1c7-0887f125d16c"
      },
      "execution_count": 20,
      "outputs": [
        {
          "output_type": "stream",
          "name": "stdout",
          "text": [
            "<bound method Series.median of 0      130\n",
            "1      165\n",
            "2      150\n",
            "3      150\n",
            "4      140\n",
            "      ... \n",
            "393     86\n",
            "394     52\n",
            "395     84\n",
            "396     79\n",
            "397     82\n",
            "Name: horsepower, Length: 398, dtype: object>\n"
          ]
        }
      ]
    },
    {
      "cell_type": "code",
      "source": [
        "df[\"horsepower\"].fillna(horsepower_median, inplace=True)"
      ],
      "metadata": {
        "id": "pCfgMTBLKFt-"
      },
      "execution_count": 21,
      "outputs": []
    },
    {
      "cell_type": "code",
      "source": [
        "print(\"\\nDataset after replacing missing values in 'horsepower':\")\n",
        "print(df)"
      ],
      "metadata": {
        "colab": {
          "base_uri": "https://localhost:8080/"
        },
        "id": "-lINyz5VKLpC",
        "outputId": "a538e20d-e8ac-44d1-9653-297bcca922c6"
      },
      "execution_count": 26,
      "outputs": [
        {
          "output_type": "stream",
          "name": "stdout",
          "text": [
            "\n",
            "Dataset after replacing missing values in 'horsepower':\n",
            "      mpg  cylinders  displacement horsepower  weight  acceleration  \\\n",
            "0    18.0          8         307.0        130    3504          12.0   \n",
            "1    15.0          8         350.0        165    3693          11.5   \n",
            "2    18.0          8         318.0        150    3436          11.0   \n",
            "3    16.0          8         304.0        150    3433          12.0   \n",
            "4    17.0          8         302.0        140    3449          10.5   \n",
            "..    ...        ...           ...        ...     ...           ...   \n",
            "393  27.0          4         140.0         86    2790          15.6   \n",
            "394  44.0          4          97.0         52    2130          24.6   \n",
            "395  32.0          4         135.0         84    2295          11.6   \n",
            "396  28.0          4         120.0         79    2625          18.6   \n",
            "397  31.0          4         119.0         82    2720          19.4   \n",
            "\n",
            "     model year  origin                   car name  \n",
            "0            70       1  chevrolet chevelle malibu  \n",
            "1            70       1          buick skylark 320  \n",
            "2            70       1         plymouth satellite  \n",
            "3            70       1              amc rebel sst  \n",
            "4            70       1                ford torino  \n",
            "..          ...     ...                        ...  \n",
            "393          82       1            ford mustang gl  \n",
            "394          82       2                  vw pickup  \n",
            "395          82       1              dodge rampage  \n",
            "396          82       1                ford ranger  \n",
            "397          82       1                 chevy s-10  \n",
            "\n",
            "[398 rows x 9 columns]\n"
          ]
        }
      ]
    },
    {
      "cell_type": "markdown",
      "source": [
        "**Question 4**"
      ],
      "metadata": {
        "id": "LYXAKDXTO832"
      }
    },
    {
      "cell_type": "code",
      "source": [
        "df['power_to_weight_ratio'] = df['horsepower'] / df['weight']\n",
        "print(df)"
      ],
      "metadata": {
        "colab": {
          "base_uri": "https://localhost:8080/"
        },
        "id": "LaPSYDYaO7Ul",
        "outputId": "2e7a228d-0467-4775-c7e6-74f9bdcdad4e"
      },
      "execution_count": 41,
      "outputs": [
        {
          "output_type": "stream",
          "name": "stdout",
          "text": [
            "      mpg  cylinders  displacement  horsepower  weight  acceleration  \\\n",
            "0    18.0          8         307.0       130.0    3504          12.0   \n",
            "1    15.0          8         350.0       165.0    3693          11.5   \n",
            "2    18.0          8         318.0       150.0    3436          11.0   \n",
            "3    16.0          8         304.0       150.0    3433          12.0   \n",
            "4    17.0          8         302.0       140.0    3449          10.5   \n",
            "..    ...        ...           ...         ...     ...           ...   \n",
            "393  27.0          4         140.0        86.0    2790          15.6   \n",
            "394  44.0          4          97.0        52.0    2130          24.6   \n",
            "395  32.0          4         135.0        84.0    2295          11.6   \n",
            "396  28.0          4         120.0        79.0    2625          18.6   \n",
            "397  31.0          4         119.0        82.0    2720          19.4   \n",
            "\n",
            "     model year  origin                   car name  power_to_weight_ratio  \n",
            "0            70       1  chevrolet chevelle malibu               0.037100  \n",
            "1            70       1          buick skylark 320               0.044679  \n",
            "2            70       1         plymouth satellite               0.043655  \n",
            "3            70       1              amc rebel sst               0.043694  \n",
            "4            70       1                ford torino               0.040591  \n",
            "..          ...     ...                        ...                    ...  \n",
            "393          82       1            ford mustang gl               0.030824  \n",
            "394          82       2                  vw pickup               0.024413  \n",
            "395          82       1              dodge rampage               0.036601  \n",
            "396          82       1                ford ranger               0.030095  \n",
            "397          82       1                 chevy s-10               0.030147  \n",
            "\n",
            "[398 rows x 10 columns]\n"
          ]
        }
      ]
    },
    {
      "cell_type": "markdown",
      "source": [
        "**Question** **5**"
      ],
      "metadata": {
        "id": "ltF1et-BSNhI"
      }
    },
    {
      "cell_type": "code",
      "source": [
        "mean_mpg_origin = df.groupby('origin')['mpg'].mean()\n",
        "print(mean_mpg_origin)"
      ],
      "metadata": {
        "colab": {
          "base_uri": "https://localhost:8080/"
        },
        "id": "nYxlIopkev5g",
        "outputId": "a346d2b5-3ba0-43fb-fb76-bf71888fa18e"
      },
      "execution_count": 58,
      "outputs": [
        {
          "output_type": "stream",
          "name": "stdout",
          "text": [
            "origin\n",
            "1    20.083534\n",
            "2    27.891429\n",
            "3    30.450633\n",
            "Name: mpg, dtype: float64\n"
          ]
        }
      ]
    },
    {
      "cell_type": "markdown",
      "source": [
        "**Question 6**"
      ],
      "metadata": {
        "id": "DrzcYefAfWj_"
      }
    },
    {
      "cell_type": "code",
      "source": [
        "sort = df.sort_values(by=\"mpg\", ascending=False)\n",
        "top_10_cars = sort.head(10)\n",
        "print(top_10_cars)"
      ],
      "metadata": {
        "colab": {
          "base_uri": "https://localhost:8080/"
        },
        "id": "QU-B5I5IfM48",
        "outputId": "cb3632b4-38c2-4796-b5ad-80946afb5d82"
      },
      "execution_count": 63,
      "outputs": [
        {
          "output_type": "stream",
          "name": "stdout",
          "text": [
            "      mpg  cylinders  displacement  horsepower  weight  acceleration  \\\n",
            "322  46.6          4          86.0        65.0    2110          17.9   \n",
            "329  44.6          4          91.0        67.0    1850          13.8   \n",
            "325  44.3          4          90.0        48.0    2085          21.7   \n",
            "394  44.0          4          97.0        52.0    2130          24.6   \n",
            "326  43.4          4          90.0        48.0    2335          23.7   \n",
            "244  43.1          4          90.0        48.0    1985          21.5   \n",
            "309  41.5          4          98.0        76.0    2144          14.7   \n",
            "330  40.9          4          85.0         NaN    1835          17.3   \n",
            "324  40.8          4          85.0        65.0    2110          19.2   \n",
            "247  39.4          4          85.0        70.0    2070          18.6   \n",
            "\n",
            "     model year  origin                         car name  \\\n",
            "322          80       3                        mazda glc   \n",
            "329          80       3              honda civic 1500 gl   \n",
            "325          80       2             vw rabbit c (diesel)   \n",
            "394          82       2                        vw pickup   \n",
            "326          80       2               vw dasher (diesel)   \n",
            "244          78       2  volkswagen rabbit custom diesel   \n",
            "309          80       2                        vw rabbit   \n",
            "330          80       2             renault lecar deluxe   \n",
            "324          80       3                       datsun 210   \n",
            "247          78       3                   datsun b210 gx   \n",
            "\n",
            "     power_to_weight_ratio  performance_score  \n",
            "322               0.030806           0.395327  \n",
            "329               0.036216           0.332692  \n",
            "325               0.023022           0.461060  \n",
            "394               0.024413           0.508169  \n",
            "326               0.020557           0.440505  \n",
            "244               0.024181           0.466826  \n",
            "309               0.035448           0.284538  \n",
            "330                    NaN           0.385597  \n",
            "324               0.030806           0.371261  \n",
            "247               0.033816           0.354029  \n"
          ]
        }
      ]
    },
    {
      "cell_type": "markdown",
      "source": [
        "**Question 7**"
      ],
      "metadata": {
        "id": "4N9f5VCMieiA"
      }
    },
    {
      "cell_type": "code",
      "source": [
        "def performance_score(row):\n",
        "    return row[\"mpg\"] * row[\"acceleration\"] / row[\"weight\"]\n",
        "df[\"performance_score\"] = df.apply(performance_score, axis=1)\n",
        "print(df)\n"
      ],
      "metadata": {
        "colab": {
          "base_uri": "https://localhost:8080/"
        },
        "id": "MVhULb9JhPjy",
        "outputId": "fa49126f-b438-4ec2-b27c-f99bbbd00047"
      },
      "execution_count": 62,
      "outputs": [
        {
          "output_type": "stream",
          "name": "stdout",
          "text": [
            "      mpg  cylinders  displacement  horsepower  weight  acceleration  \\\n",
            "0    18.0          8         307.0       130.0    3504          12.0   \n",
            "1    15.0          8         350.0       165.0    3693          11.5   \n",
            "2    18.0          8         318.0       150.0    3436          11.0   \n",
            "3    16.0          8         304.0       150.0    3433          12.0   \n",
            "4    17.0          8         302.0       140.0    3449          10.5   \n",
            "..    ...        ...           ...         ...     ...           ...   \n",
            "393  27.0          4         140.0        86.0    2790          15.6   \n",
            "394  44.0          4          97.0        52.0    2130          24.6   \n",
            "395  32.0          4         135.0        84.0    2295          11.6   \n",
            "396  28.0          4         120.0        79.0    2625          18.6   \n",
            "397  31.0          4         119.0        82.0    2720          19.4   \n",
            "\n",
            "     model year  origin                   car name  power_to_weight_ratio  \\\n",
            "0            70       1  chevrolet chevelle malibu               0.037100   \n",
            "1            70       1          buick skylark 320               0.044679   \n",
            "2            70       1         plymouth satellite               0.043655   \n",
            "3            70       1              amc rebel sst               0.043694   \n",
            "4            70       1                ford torino               0.040591   \n",
            "..          ...     ...                        ...                    ...   \n",
            "393          82       1            ford mustang gl               0.030824   \n",
            "394          82       2                  vw pickup               0.024413   \n",
            "395          82       1              dodge rampage               0.036601   \n",
            "396          82       1                ford ranger               0.030095   \n",
            "397          82       1                 chevy s-10               0.030147   \n",
            "\n",
            "     performance_score  \n",
            "0             0.061644  \n",
            "1             0.046710  \n",
            "2             0.057625  \n",
            "3             0.055928  \n",
            "4             0.051754  \n",
            "..                 ...  \n",
            "393           0.150968  \n",
            "394           0.508169  \n",
            "395           0.161743  \n",
            "396           0.198400  \n",
            "397           0.221103  \n",
            "\n",
            "[398 rows x 11 columns]\n"
          ]
        }
      ]
    },
    {
      "cell_type": "markdown",
      "source": [
        "**Question 8**"
      ],
      "metadata": {
        "id": "PUV8UrcBiOoC"
      }
    },
    {
      "cell_type": "code",
      "source": [
        "summary = df.groupby(\"model year\").agg({\n",
        "    \"mpg\": \"mean\",\n",
        "    \"horsepower\": \"mean\",\n",
        "    \"weight\": \"mean\"\n",
        "})\n",
        "print(summary)"
      ],
      "metadata": {
        "colab": {
          "base_uri": "https://localhost:8080/"
        },
        "id": "EPpDAiQmiSI-",
        "outputId": "11288c0f-0087-49d4-f8b8-a2a8b3dc1a37"
      },
      "execution_count": 87,
      "outputs": [
        {
          "output_type": "stream",
          "name": "stdout",
          "text": [
            "                  mpg  horsepower       weight\n",
            "model year                                    \n",
            "70          17.689655  147.827586  3372.793103\n",
            "71          21.250000  107.037037  2995.428571\n",
            "72          18.714286  120.178571  3237.714286\n",
            "73          17.100000  130.475000  3419.025000\n",
            "74          22.703704   94.230769  2877.925926\n",
            "75          20.266667  101.066667  3176.800000\n",
            "76          21.573529  101.117647  3078.735294\n",
            "77          23.375000  105.071429  2997.357143\n",
            "78          24.061111   99.694444  2861.805556\n",
            "79          25.093103  101.206897  3055.344828\n",
            "80          33.696552   77.481481  2436.655172\n",
            "81          30.334483   81.035714  2522.931034\n",
            "82          31.709677   81.466667  2453.548387\n"
          ]
        }
      ]
    },
    {
      "cell_type": "markdown",
      "source": [
        "**Question 9**"
      ],
      "metadata": {
        "id": "76e3Y8dOnq54"
      }
    },
    {
      "cell_type": "code",
      "source": [
        "high_mpg_cars = df[df[\"mpg\"] > 30]\n",
        "high_mpg_cars_subset = high_mpg_cars[[\"mpg\", \"cylinders\", \"horsepower\", \"weight\"]]\n",
        "high_mpg_cars_subset.to_csv(\"high_mpg_cars.csv\")\n",
        "print(high_mpg_cars_subset)\n"
      ],
      "metadata": {
        "colab": {
          "base_uri": "https://localhost:8080/"
        },
        "id": "utAHZEhfoge5",
        "outputId": "8e0cee97-d340-4fbc-fbe1-1bb55ff3e4ac"
      },
      "execution_count": 90,
      "outputs": [
        {
          "output_type": "stream",
          "name": "stdout",
          "text": [
            "      mpg  cylinders  horsepower  weight\n",
            "53   31.0          4        65.0    1773\n",
            "54   35.0          4        69.0    1613\n",
            "129  31.0          4        67.0    1950\n",
            "131  32.0          4        65.0    1836\n",
            "144  31.0          4        52.0    1649\n",
            "..    ...        ...         ...     ...\n",
            "390  32.0          4        96.0    2665\n",
            "391  36.0          4        84.0    2370\n",
            "394  44.0          4        52.0    2130\n",
            "395  32.0          4        84.0    2295\n",
            "397  31.0          4        82.0    2720\n",
            "\n",
            "[85 rows x 4 columns]\n"
          ]
        }
      ]
    },
    {
      "cell_type": "markdown",
      "source": [
        "**Question 10**\n"
      ],
      "metadata": {
        "id": "7YKYlmpqo7mN"
      }
    },
    {
      "cell_type": "markdown",
      "source": [
        "**10.1**"
      ],
      "metadata": {
        "id": "Tz3uNjSwq9-3"
      }
    },
    {
      "cell_type": "code",
      "source": [
        "Q1 = df[\"mpg\"].quantile(0.25)\n",
        "Q3 = df[\"mpg\"].quantile(0.75)\n",
        "IQR = Q3 - Q1\n",
        "print(\"\\nIQR:\", IQR)"
      ],
      "metadata": {
        "colab": {
          "base_uri": "https://localhost:8080/"
        },
        "id": "1Fdf1kjvpArl",
        "outputId": "6f785656-c1b2-48d4-8c7f-dc3ea43f1d2a"
      },
      "execution_count": 94,
      "outputs": [
        {
          "output_type": "stream",
          "name": "stdout",
          "text": [
            "\n",
            "IQR: 11.5\n"
          ]
        }
      ]
    },
    {
      "cell_type": "markdown",
      "source": [
        "**10.2**"
      ],
      "metadata": {
        "id": "I1HJgKx_r42N"
      }
    },
    {
      "cell_type": "code",
      "source": [
        "lower_bound = Q1 - 1.5 * IQR\n",
        "upper_bound = Q3 + 1.5 * IQR\n",
        "print(\"\\nLower Bound:\", lower_bound)\n",
        "print(\"\\nUpper Bound:\",upper_bound)"
      ],
      "metadata": {
        "colab": {
          "base_uri": "https://localhost:8080/"
        },
        "id": "HT7Vj6SOr61a",
        "outputId": "d562d68c-ccdd-462f-91f5-9f0e0853def2"
      },
      "execution_count": 95,
      "outputs": [
        {
          "output_type": "stream",
          "name": "stdout",
          "text": [
            "\n",
            "Lower Bound: 0.25\n",
            "\n",
            "Upper Bound: 46.25\n"
          ]
        }
      ]
    },
    {
      "cell_type": "markdown",
      "source": [
        "**10.3**"
      ],
      "metadata": {
        "id": "YMFrjRJVsYz3"
      }
    },
    {
      "cell_type": "code",
      "source": [
        "outliers = df[(df[\"mpg\"] < lower_bound) | (df[\"mpg\"] > upper_bound)]\n",
        "outliers_df = outliers[['car name', 'mpg', 'model year']]\n",
        "print(\"Outliers in the 'mpg' column:\")\n",
        "print(outliers_df)"
      ],
      "metadata": {
        "colab": {
          "base_uri": "https://localhost:8080/"
        },
        "id": "jcRYRMAvsaMc",
        "outputId": "8c7bb4ce-d7c2-4728-b64e-d55bffd25918"
      },
      "execution_count": 97,
      "outputs": [
        {
          "output_type": "stream",
          "name": "stdout",
          "text": [
            "Outliers in the 'mpg' column:\n",
            "      car name   mpg  model year\n",
            "322  mazda glc  46.6          80\n"
          ]
        }
      ]
    }
  ]
}